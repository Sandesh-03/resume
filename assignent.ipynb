{
  "nbformat": 4,
  "nbformat_minor": 0,
  "metadata": {
    "colab": {
      "provenance": []
    },
    "kernelspec": {
      "name": "python3",
      "display_name": "Python 3"
    },
    "language_info": {
      "name": "python"
    }
  },
  "cells": [
    {
      "cell_type": "code",
      "source": [
        "!apt-get -qq install -y libopencv-dev\n"
      ],
      "metadata": {
        "id": "O8dRatmck8Q_"
      },
      "execution_count": 26,
      "outputs": []
    },
    {
      "cell_type": "code",
      "execution_count": 27,
      "metadata": {
        "colab": {
          "base_uri": "https://localhost:8080/"
        },
        "id": "EaiqIfyuh66q",
        "outputId": "615c7c40-fac2-4a11-f961-1fce80b6e6b7"
      },
      "outputs": [
        {
          "output_type": "stream",
          "name": "stdout",
          "text": [
            "Overwriting rgb_to_gray.cu\n"
          ]
        }
      ],
      "source": [
        "%%writefile rgb_to_gray.cu\n",
        "\n",
        "#include <stdio.h>\n",
        "#include <opencv2/opencv.hpp>\n",
        "\n",
        "__global__ void rgb_to_gray_kernel(unsigned char* inputImage, unsigned char* outputImage, int width, int height) {\n",
        "    int x = blockIdx.x * blockDim.x + threadIdx.x;\n",
        "    int y = blockIdx.y * blockDim.y + threadIdx.y;\n",
        "\n",
        "    if (x < width && y < height) {\n",
        "        int idx = (y * width + x) * 3;\n",
        "        unsigned char r = inputImage[idx];\n",
        "        unsigned char g = inputImage[idx + 1];\n",
        "        unsigned char b = inputImage[idx + 2];\n",
        "\n",
        "        outputImage[y * width + x] = static_cast<unsigned char>(0.299 * r + 0.587 * g + 0.114 * b);\n",
        "    }\n",
        "}\n",
        "\n",
        "void rgb_to_gray(unsigned char* inputImage, unsigned char* outputImage, int width, int height) {\n",
        "    unsigned char* d_inputImage;\n",
        "    unsigned char* d_outputImage;\n",
        "\n",
        "    size_t imageSize = width * height * 3 * sizeof(unsigned char);\n",
        "    size_t grayImageSize = width * height * sizeof(unsigned char);\n",
        "\n",
        "    cudaMalloc(&d_inputImage, imageSize);\n",
        "    cudaMalloc(&d_outputImage, grayImageSize);\n",
        "\n",
        "    cudaMemcpy(d_inputImage, inputImage, imageSize, cudaMemcpyHostToDevice);\n",
        "\n",
        "    dim3 threadsPerBlock(16, 16);\n",
        "    dim3 numBlocks((width + threadsPerBlock.x - 1) / threadsPerBlock.x,\n",
        "                   (height + threadsPerBlock.y - 1) / threadsPerBlock.y);\n",
        "\n",
        "    rgb_to_gray_kernel<<<numBlocks, threadsPerBlock>>>(d_inputImage, d_outputImage, width, height);\n",
        "\n",
        "    cudaMemcpy(outputImage, d_outputImage, grayImageSize, cudaMemcpyDeviceToHost);\n",
        "\n",
        "    cudaFree(d_inputImage);\n",
        "    cudaFree(d_outputImage);\n",
        "}\n",
        "\n",
        "int main() {\n",
        "    cv::Mat inputImage = cv::imread(\"/content/download.jpeg\", cv::IMREAD_COLOR);\n",
        "    if (inputImage.empty()) {\n",
        "        printf(\"Failed to open the image file\\n\");\n",
        "        return -1;\n",
        "    }\n",
        "\n",
        "    int width = inputImage.cols;\n",
        "    int height = inputImage.rows;\n",
        "\n",
        "    unsigned char* inputImageData = inputImage.data;\n",
        "    unsigned char* outputImageData = new unsigned char[width * height];\n",
        "\n",
        "    rgb_to_gray(inputImageData, outputImageData, width, height);\n",
        "\n",
        "    cv::Mat grayImage(height, width, CV_8UC1, outputImageData);\n",
        "    cv::imwrite(\"output_image.jpg\", grayImage);\n",
        "\n",
        "    delete[] outputImageData;\n",
        "\n",
        "    printf(\"RGB to grayscale conversion completed.\\n\");\n",
        "\n",
        "    return 0;\n",
        "}\n"
      ]
    },
    {
      "cell_type": "code",
      "source": [
        "!nvcc -o rgb_to_gray rgb_to_gray.cu -I/usr/include/opencv4 -L/usr/lib -lopencv_core -lopencv_highgui -lopencv_imgcodecs"
      ],
      "metadata": {
        "colab": {
          "base_uri": "https://localhost:8080/"
        },
        "id": "_lFJM2-3lvtD",
        "outputId": "5bcd6e94-aafd-4458-a2c0-10a517beae61"
      },
      "execution_count": 28,
      "outputs": [
        {
          "output_type": "stream",
          "name": "stdout",
          "text": [
            "\u001b[01m\u001b[0m\u001b[01m/usr/include/opencv4/opencv2/stitching/detail/warpers.hpp(235)\u001b[0m: \u001b[01;35mwarning\u001b[0m #611-D: overloaded virtual function \u001b[01m\"cv::detail::PlaneWarper::buildMaps\"\u001b[0m is only partially overridden in class \u001b[01m\"cv::detail::AffineWarper\"\u001b[0m\n",
            "  class AffineWarper : public PlaneWarper\n",
            "        ^\n",
            "\n",
            "\u001b[01;36m\u001b[0m\u001b[01;36mRemark\u001b[0m: The warnings can be suppressed with \"-diag-suppress <warning-number>\"\n",
            "\n",
            "\u001b[01m\u001b[0m\u001b[01m/usr/include/opencv4/opencv2/stitching/detail/warpers.hpp(235)\u001b[0m: \u001b[01;35mwarning\u001b[0m #611-D: overloaded virtual function \u001b[01m\"cv::detail::PlaneWarper::warp\"\u001b[0m is only partially overridden in class \u001b[01m\"cv::detail::AffineWarper\"\u001b[0m\n",
            "  class AffineWarper : public PlaneWarper\n",
            "        ^\n",
            "\n",
            "\u001b[01m\u001b[0m\u001b[01m/usr/include/opencv4/opencv2/stitching/detail/blenders.hpp(100)\u001b[0m: \u001b[01;35mwarning\u001b[0m #611-D: overloaded virtual function \u001b[01m\"cv::detail::Blender::prepare\"\u001b[0m is only partially overridden in class \u001b[01m\"cv::detail::FeatherBlender\"\u001b[0m\n",
            "  class FeatherBlender : public Blender\n",
            "        ^\n",
            "\n",
            "\u001b[01m\u001b[0m\u001b[01m/usr/include/opencv4/opencv2/stitching/detail/blenders.hpp(127)\u001b[0m: \u001b[01;35mwarning\u001b[0m #611-D: overloaded virtual function \u001b[01m\"cv::detail::Blender::prepare\"\u001b[0m is only partially overridden in class \u001b[01m\"cv::detail::MultiBandBlender\"\u001b[0m\n",
            "  class MultiBandBlender : public Blender\n",
            "        ^\n",
            "\n",
            "\u001b[01m\u001b[0m\u001b[01m/usr/include/opencv4/opencv2/stitching/detail/warpers.hpp(235)\u001b[0m: \u001b[01;35mwarning\u001b[0m #611-D: overloaded virtual function \u001b[01m\"cv::detail::PlaneWarper::buildMaps\"\u001b[0m is only partially overridden in class \u001b[01m\"cv::detail::AffineWarper\"\u001b[0m\n",
            "  class AffineWarper : public PlaneWarper\n",
            "        ^\n",
            "\n",
            "\u001b[01;36m\u001b[0m\u001b[01;36mRemark\u001b[0m: The warnings can be suppressed with \"-diag-suppress <warning-number>\"\n",
            "\n",
            "\u001b[01m\u001b[0m\u001b[01m/usr/include/opencv4/opencv2/stitching/detail/warpers.hpp(235)\u001b[0m: \u001b[01;35mwarning\u001b[0m #611-D: overloaded virtual function \u001b[01m\"cv::detail::PlaneWarper::warp\"\u001b[0m is only partially overridden in class \u001b[01m\"cv::detail::AffineWarper\"\u001b[0m\n",
            "  class AffineWarper : public PlaneWarper\n",
            "        ^\n",
            "\n",
            "\u001b[01m\u001b[0m\u001b[01m/usr/include/opencv4/opencv2/stitching/detail/blenders.hpp(100)\u001b[0m: \u001b[01;35mwarning\u001b[0m #611-D: overloaded virtual function \u001b[01m\"cv::detail::Blender::prepare\"\u001b[0m is only partially overridden in class \u001b[01m\"cv::detail::FeatherBlender\"\u001b[0m\n",
            "  class FeatherBlender : public Blender\n",
            "        ^\n",
            "\n",
            "\u001b[01m\u001b[0m\u001b[01m/usr/include/opencv4/opencv2/stitching/detail/blenders.hpp(127)\u001b[0m: \u001b[01;35mwarning\u001b[0m #611-D: overloaded virtual function \u001b[01m\"cv::detail::Blender::prepare\"\u001b[0m is only partially overridden in class \u001b[01m\"cv::detail::MultiBandBlender\"\u001b[0m\n",
            "  class MultiBandBlender : public Blender\n",
            "        ^\n",
            "\n"
          ]
        }
      ]
    },
    {
      "cell_type": "code",
      "source": [
        "!./rgb_to_gray\n"
      ],
      "metadata": {
        "colab": {
          "base_uri": "https://localhost:8080/"
        },
        "id": "_Cl-1dMHl7FJ",
        "outputId": "9061ea7b-bc72-4410-8903-d9919074695f"
      },
      "execution_count": 29,
      "outputs": [
        {
          "output_type": "stream",
          "name": "stdout",
          "text": [
            "RGB to grayscale conversion completed.\n"
          ]
        }
      ]
    }
  ]
}
